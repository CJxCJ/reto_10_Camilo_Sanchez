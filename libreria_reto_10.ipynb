{
 "cells": [
  {
   "cell_type": "markdown",
   "metadata": {},
   "source": [
    "# Reto\n",
    "\n",
    "Punto 1: Desarrollar un algoritmo que calcule el promedio de un arreglo de reales."
   ]
  },
  {
   "cell_type": "code",
   "execution_count": null,
   "metadata": {},
   "outputs": [],
   "source": [
    "#funcion para el promedio del arreglo\n",
    "def promedio(arreglo):\n",
    "    if len(arreglo) == 0:\n",
    "        return 0 \n",
    "    suma = sum(arreglo)\n",
    "    promedio = suma / len(arreglo)\n",
    "    return promedio\n",
    "\n",
    "#se pide que ingrese la cantidad de valores en el arreglo\n",
    "n = int(input(\"Ingrese la cantidad de números en el arreglo: \"))\n",
    "arreglo = []\n",
    "\n",
    "#se pide que ingrese numeros n cantidad de veces\n",
    "for i in range(n):\n",
    "    numero = float(input(f\"Ingrese un número {i + 1}: \"))\n",
    "    arreglo.append(numero)\n",
    "\n",
    "#muestra el promedio\n",
    "prom = promedio(arreglo)\n",
    "print(f\"El promedio de los números es: {prom}\")\n",
    "\n"
   ]
  },
  {
   "cell_type": "markdown",
   "metadata": {},
   "source": [
    "Punto 2: Desarrollar un algoritmo que calcule el producto punto de dos arreglos de números enteros (reales) de igual tamaño."
   ]
  },
  {
   "cell_type": "code",
   "execution_count": null,
   "metadata": {},
   "outputs": [],
   "source": [
    "#funcion de  punto producto\n",
    "def producto(arreglo1, arreglo2):\n",
    "    if len(arreglo1) != len(arreglo2):\n",
    "        True\n",
    "    \n",
    "    multi = 0\n",
    "    for i in range(len(arreglo1)):\n",
    "        multi += arreglo1[i] * arreglo2[i]\n",
    "    return multi\n",
    "\n",
    "#pedir que ingrese los valores de los arreglos\n",
    "n = int(input(\"Ingrese la longitud de los arreglos: \"))\n",
    "\n",
    "arreglo1 = []\n",
    "arreglo2 = []\n",
    "\n",
    "#se pide que ingrese numeros n cantidad de veces para el primer arreglo \n",
    "print(\"Ingrese los valores del primer arreglo:\")\n",
    "for i in range(n):\n",
    "    num = float(input(f\"Valor {i + 1}: \"))\n",
    "    arreglo1.append(num)\n",
    "\n",
    "#se pide que ingrese numeros n cantidad de veces para el segundo arreglo \n",
    "print(\"Ingrese los valores del segundo arreglo:\")\n",
    "for i in range(n):\n",
    "    num = float(input(f\"Valor {i + 1}: \"))\n",
    "    arreglo2.append(num)\n",
    "\n",
    "#se imprime el producto punto \n",
    "prod = producto(arreglo1, arreglo2)\n",
    "print(f\"El producto punto de los arreglos es: {prod}\")\n"
   ]
  },
  {
   "cell_type": "markdown",
   "metadata": {},
   "source": [
    "Punto 3: "
   ]
  },
  {
   "cell_type": "code",
   "execution_count": null,
   "metadata": {},
   "outputs": [],
   "source": [
    "def final(arreglo):\n",
    "    #se usa sorted para que todos las x iguales a 0 vayan al final\n",
    "    ordenado = sorted(arreglo, key=lambda x: x == 0)\n",
    "    return ordenado\n",
    "\n",
    "n = int(input(\"Ingrese la cantidad de números en el arreglo: \"))\n",
    "arreglo = []\n",
    "\n",
    "\n",
    "for i in range(n):\n",
    "\n",
    "    #se pide que ingrese numeros n cantidad de veces\n",
    "    numero = int(input(f\"Ingrese un número {i + 1}: \"))\n",
    "    arreglo.append(numero)\n",
    "    \n",
    "#se imprime el resultado\n",
    "arreglo_final = final(arreglo)\n",
    "print(arreglo_final)\n"
   ]
  },
  {
   "cell_type": "markdown",
   "metadata": {},
   "source": [
    "Punto 4: Revisar que son los algoritmos de sorting, entender bubble-sort\n",
    "\n",
    "- los algoritmos de sorting son basicamente los metodos de ordenar listas, estos permiten acomodarlas, cambiarlas, mutarlas y obviamente ordenarlas, uno de los metodos de sorting existentes es el bubble sorting (ordenamiento de burubuja) El ordenamiento burbuja hace múltiples pasadas a lo largo de una lista. Compara los ítems adyacentes e intercambia los que no están en orden. Cada pasada a lo largo de la lista ubica el siguiente valor más grande en su lugar apropiado, es decir, basicamente cada elemento “burbujea” hasta el lugar al que pertenece."
   ]
  }
 ],
 "metadata": {
  "language_info": {
   "name": "python"
  }
 },
 "nbformat": 4,
 "nbformat_minor": 2
}
